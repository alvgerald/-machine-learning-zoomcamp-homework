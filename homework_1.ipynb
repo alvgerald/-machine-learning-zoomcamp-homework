{
 "cells": [
  {
   "cell_type": "markdown",
   "id": "51c5cef6",
   "metadata": {
    "id": "51c5cef6"
   },
   "source": [
    "## Homework #1 "
   ]
  },
  {
   "cell_type": "markdown",
   "id": "9e18ef36",
   "metadata": {
    "id": "9e18ef36"
   },
   "source": [
    "### Set up the environment"
   ]
  },
  {
   "cell_type": "markdown",
   "id": "0a94d00b",
   "metadata": {
    "id": "0a94d00b"
   },
   "source": [
    "You need to install Python, NumPy, Pandas, Matplotlib and Seaborn. For that, you can the instructions from <a href='https://github.com/alexeygrigorev/mlbookcamp-code/blob/master/course-zoomcamp/01-intro/06-environment.md'>06-environment.md</a>."
   ]
  },
  {
   "cell_type": "code",
   "execution_count": 1,
   "id": "41eae4aa",
   "metadata": {
    "id": "41eae4aa"
   },
   "outputs": [],
   "source": [
    "import numpy as np\n",
    "import pandas as pd"
   ]
  },
  {
   "cell_type": "markdown",
   "id": "04514a64",
   "metadata": {
    "id": "04514a64"
   },
   "source": [
    "### Question 1"
   ]
  },
  {
   "cell_type": "markdown",
   "id": "39ca9b76",
   "metadata": {
    "id": "39ca9b76"
   },
   "source": [
    "What's the version of NumPy that you installed?\n",
    "\n",
    "You can get the version information using the `__version__` field:"
   ]
  },
  {
   "cell_type": "code",
   "execution_count": 2,
   "id": "be3ac3dd",
   "metadata": {
    "colab": {
     "base_uri": "https://localhost:8080/",
     "height": 36
    },
    "id": "be3ac3dd",
    "outputId": "b08ceaff-8060-4640-be48-435656007e7c"
   },
   "outputs": [
    {
     "data": {
      "text/plain": [
       "'1.26.4'"
      ]
     },
     "execution_count": 2,
     "metadata": {},
     "output_type": "execute_result"
    }
   ],
   "source": [
    "np.__version__"
   ]
  },
  {
   "cell_type": "markdown",
   "id": "adce9d0b",
   "metadata": {
    "id": "adce9d0b"
   },
   "source": [
    "### Getting the data"
   ]
  },
  {
   "cell_type": "markdown",
   "id": "563f5833",
   "metadata": {
    "id": "563f5833"
   },
   "source": [
    "For this homework, we'll use the Car price dataset. Download it from <a href='https://raw.githubusercontent.com/alexeygrigorev/mlbookcamp-code/master/chapter-02-car-price/data.csv'>here</a>. \n",
    "\n",
    "You can do it with wget:\n",
    "```bash\n",
    "wget https://raw.githubusercontent.com/alexeygrigorev/mlbookcamp-code/master/chapter-02-car-price/data.csv\n",
    "```\n",
    "Or just open it with your browser and click \"Save as...\".\n",
    "\n",
    "Now read it with Pandas."
   ]
  },
  {
   "cell_type": "code",
   "execution_count": 3,
   "id": "4e9364c6",
   "metadata": {
    "id": "4e9364c6"
   },
   "outputs": [],
   "source": [
    "data = pd.read_csv(\"https://raw.githubusercontent.com/alexeygrigorev/datasets/master/car_fuel_efficiency.csv\")"
   ]
  },
  {
   "cell_type": "code",
   "execution_count": 4,
   "id": "3a05a830-e6bf-4ad5-b037-bdd8b9d95c59",
   "metadata": {},
   "outputs": [
    {
     "data": {
      "text/html": [
       "<div>\n",
       "<style scoped>\n",
       "    .dataframe tbody tr th:only-of-type {\n",
       "        vertical-align: middle;\n",
       "    }\n",
       "\n",
       "    .dataframe tbody tr th {\n",
       "        vertical-align: top;\n",
       "    }\n",
       "\n",
       "    .dataframe thead th {\n",
       "        text-align: right;\n",
       "    }\n",
       "</style>\n",
       "<table border=\"1\" class=\"dataframe\">\n",
       "  <thead>\n",
       "    <tr style=\"text-align: right;\">\n",
       "      <th></th>\n",
       "      <th>engine_displacement</th>\n",
       "      <th>num_cylinders</th>\n",
       "      <th>horsepower</th>\n",
       "      <th>vehicle_weight</th>\n",
       "      <th>acceleration</th>\n",
       "      <th>model_year</th>\n",
       "      <th>origin</th>\n",
       "      <th>fuel_type</th>\n",
       "      <th>drivetrain</th>\n",
       "      <th>num_doors</th>\n",
       "      <th>fuel_efficiency_mpg</th>\n",
       "    </tr>\n",
       "  </thead>\n",
       "  <tbody>\n",
       "    <tr>\n",
       "      <th>0</th>\n",
       "      <td>170</td>\n",
       "      <td>3.0</td>\n",
       "      <td>159.0</td>\n",
       "      <td>3413.433759</td>\n",
       "      <td>17.7</td>\n",
       "      <td>2003</td>\n",
       "      <td>Europe</td>\n",
       "      <td>Gasoline</td>\n",
       "      <td>All-wheel drive</td>\n",
       "      <td>0.0</td>\n",
       "      <td>13.231729</td>\n",
       "    </tr>\n",
       "    <tr>\n",
       "      <th>1</th>\n",
       "      <td>130</td>\n",
       "      <td>5.0</td>\n",
       "      <td>97.0</td>\n",
       "      <td>3149.664934</td>\n",
       "      <td>17.8</td>\n",
       "      <td>2007</td>\n",
       "      <td>USA</td>\n",
       "      <td>Gasoline</td>\n",
       "      <td>Front-wheel drive</td>\n",
       "      <td>0.0</td>\n",
       "      <td>13.688217</td>\n",
       "    </tr>\n",
       "    <tr>\n",
       "      <th>2</th>\n",
       "      <td>170</td>\n",
       "      <td>NaN</td>\n",
       "      <td>78.0</td>\n",
       "      <td>3079.038997</td>\n",
       "      <td>15.1</td>\n",
       "      <td>2018</td>\n",
       "      <td>Europe</td>\n",
       "      <td>Gasoline</td>\n",
       "      <td>Front-wheel drive</td>\n",
       "      <td>0.0</td>\n",
       "      <td>14.246341</td>\n",
       "    </tr>\n",
       "    <tr>\n",
       "      <th>3</th>\n",
       "      <td>220</td>\n",
       "      <td>4.0</td>\n",
       "      <td>NaN</td>\n",
       "      <td>2542.392402</td>\n",
       "      <td>20.2</td>\n",
       "      <td>2009</td>\n",
       "      <td>USA</td>\n",
       "      <td>Diesel</td>\n",
       "      <td>All-wheel drive</td>\n",
       "      <td>2.0</td>\n",
       "      <td>16.912736</td>\n",
       "    </tr>\n",
       "    <tr>\n",
       "      <th>4</th>\n",
       "      <td>210</td>\n",
       "      <td>1.0</td>\n",
       "      <td>140.0</td>\n",
       "      <td>3460.870990</td>\n",
       "      <td>14.4</td>\n",
       "      <td>2009</td>\n",
       "      <td>Europe</td>\n",
       "      <td>Gasoline</td>\n",
       "      <td>All-wheel drive</td>\n",
       "      <td>2.0</td>\n",
       "      <td>12.488369</td>\n",
       "    </tr>\n",
       "  </tbody>\n",
       "</table>\n",
       "</div>"
      ],
      "text/plain": [
       "   engine_displacement  num_cylinders  horsepower  vehicle_weight  \\\n",
       "0                  170            3.0       159.0     3413.433759   \n",
       "1                  130            5.0        97.0     3149.664934   \n",
       "2                  170            NaN        78.0     3079.038997   \n",
       "3                  220            4.0         NaN     2542.392402   \n",
       "4                  210            1.0       140.0     3460.870990   \n",
       "\n",
       "   acceleration  model_year  origin fuel_type         drivetrain  num_doors  \\\n",
       "0          17.7        2003  Europe  Gasoline    All-wheel drive        0.0   \n",
       "1          17.8        2007     USA  Gasoline  Front-wheel drive        0.0   \n",
       "2          15.1        2018  Europe  Gasoline  Front-wheel drive        0.0   \n",
       "3          20.2        2009     USA    Diesel    All-wheel drive        2.0   \n",
       "4          14.4        2009  Europe  Gasoline    All-wheel drive        2.0   \n",
       "\n",
       "   fuel_efficiency_mpg  \n",
       "0            13.231729  \n",
       "1            13.688217  \n",
       "2            14.246341  \n",
       "3            16.912736  \n",
       "4            12.488369  "
      ]
     },
     "execution_count": 4,
     "metadata": {},
     "output_type": "execute_result"
    }
   ],
   "source": [
    "data.head()"
   ]
  },
  {
   "cell_type": "markdown",
   "id": "3787858f",
   "metadata": {
    "id": "3787858f"
   },
   "source": [
    "### Question 2"
   ]
  },
  {
   "cell_type": "markdown",
   "id": "abf0a8ef",
   "metadata": {
    "id": "abf0a8ef"
   },
   "source": [
    "How many records are in the dataset?\n",
    "\n",
    "Here you need to specify the number of rows."
   ]
  },
  {
   "cell_type": "code",
   "execution_count": 5,
   "id": "53c3bb22",
   "metadata": {
    "colab": {
     "base_uri": "https://localhost:8080/"
    },
    "id": "53c3bb22",
    "outputId": "f312d0d8-911f-413d-896e-fcc89a59c9ca"
   },
   "outputs": [
    {
     "data": {
      "text/plain": [
       "9704"
      ]
     },
     "execution_count": 5,
     "metadata": {},
     "output_type": "execute_result"
    }
   ],
   "source": [
    "data.shape[0]   # alternative is len(data.index)"
   ]
  },
  {
   "cell_type": "markdown",
   "id": "c5c5a015",
   "metadata": {
    "id": "c5c5a015"
   },
   "source": [
    "### Question 3"
   ]
  },
  {
   "cell_type": "markdown",
   "id": "215bb0f0",
   "metadata": {
    "id": "215bb0f0"
   },
   "source": [
    "How many fuel types are presented in the dataset?"
   ]
  },
  {
   "cell_type": "code",
   "execution_count": 7,
   "id": "u3aaRkGy7QiD",
   "metadata": {
    "colab": {
     "base_uri": "https://localhost:8080/"
    },
    "id": "u3aaRkGy7QiD",
    "outputId": "bacee4d9-ae98-4470-a18b-d15814720125"
   },
   "outputs": [
    {
     "data": {
      "text/plain": [
       "fuel_type\n",
       "Gasoline    4898\n",
       "Diesel      4806\n",
       "Name: count, dtype: int64"
      ]
     },
     "execution_count": 7,
     "metadata": {},
     "output_type": "execute_result"
    }
   ],
   "source": [
    "data['fuel_type'].value_counts().head()"
   ]
  },
  {
   "cell_type": "markdown",
   "id": "Gs-F0NGmT1rY",
   "metadata": {
    "id": "Gs-F0NGmT1rY"
   },
   "source": [
    "### Question 4"
   ]
  },
  {
   "cell_type": "markdown",
   "id": "YEL7kG-qT40Z",
   "metadata": {
    "id": "YEL7kG-qT40Z"
   },
   "source": [
    "How many columns in the dataset have missing values?"
   ]
  },
  {
   "cell_type": "code",
   "execution_count": 8,
   "id": "PqW9C9MK2oL_",
   "metadata": {
    "colab": {
     "base_uri": "https://localhost:8080/"
    },
    "id": "PqW9C9MK2oL_",
    "outputId": "3db57d44-b861-4ce5-85b3-3fbb2412f727"
   },
   "outputs": [
    {
     "data": {
      "text/plain": [
       "engine_displacement      0\n",
       "num_cylinders          482\n",
       "horsepower             708\n",
       "vehicle_weight           0\n",
       "acceleration           930\n",
       "model_year               0\n",
       "origin                   0\n",
       "fuel_type                0\n",
       "drivetrain               0\n",
       "num_doors              502\n",
       "fuel_efficiency_mpg      0\n",
       "dtype: int64"
      ]
     },
     "execution_count": 8,
     "metadata": {},
     "output_type": "execute_result"
    }
   ],
   "source": [
    "data.isnull().sum()"
   ]
  },
  {
   "cell_type": "code",
   "execution_count": 10,
   "id": "6def2935-834c-4cc8-a688-0a4e5f2d474c",
   "metadata": {},
   "outputs": [
    {
     "data": {
      "text/plain": [
       "4"
      ]
     },
     "execution_count": 10,
     "metadata": {},
     "output_type": "execute_result"
    }
   ],
   "source": [
    "(data.isnull().sum() != 0).sum()"
   ]
  },
  {
   "cell_type": "markdown",
   "id": "1ede2dba",
   "metadata": {
    "id": "1ede2dba"
   },
   "source": [
    "### Question 5"
   ]
  },
  {
   "cell_type": "markdown",
   "id": "lmCmA9GIUPU0",
   "metadata": {
    "id": "lmCmA9GIUPU0"
   },
   "source": [
    "What's the maximum fuel efficiency of cars from Asia?"
   ]
  },
  {
   "cell_type": "code",
   "execution_count": 12,
   "id": "IQ8dlAmw4ynp",
   "metadata": {
    "colab": {
     "base_uri": "https://localhost:8080/"
    },
    "id": "IQ8dlAmw4ynp",
    "outputId": "48b92886-fe77-48c9-d451-9d6838011894"
   },
   "outputs": [
    {
     "data": {
      "text/html": [
       "<div>\n",
       "<style scoped>\n",
       "    .dataframe tbody tr th:only-of-type {\n",
       "        vertical-align: middle;\n",
       "    }\n",
       "\n",
       "    .dataframe tbody tr th {\n",
       "        vertical-align: top;\n",
       "    }\n",
       "\n",
       "    .dataframe thead th {\n",
       "        text-align: right;\n",
       "    }\n",
       "</style>\n",
       "<table border=\"1\" class=\"dataframe\">\n",
       "  <thead>\n",
       "    <tr style=\"text-align: right;\">\n",
       "      <th></th>\n",
       "      <th>min</th>\n",
       "      <th>mean</th>\n",
       "      <th>max</th>\n",
       "    </tr>\n",
       "    <tr>\n",
       "      <th>origin</th>\n",
       "      <th></th>\n",
       "      <th></th>\n",
       "      <th></th>\n",
       "    </tr>\n",
       "  </thead>\n",
       "  <tbody>\n",
       "    <tr>\n",
       "      <th>Asia</th>\n",
       "      <td>6.886245</td>\n",
       "      <td>14.973830</td>\n",
       "      <td>23.759123</td>\n",
       "    </tr>\n",
       "    <tr>\n",
       "      <th>Europe</th>\n",
       "      <td>6.200971</td>\n",
       "      <td>14.942532</td>\n",
       "      <td>25.967222</td>\n",
       "    </tr>\n",
       "    <tr>\n",
       "      <th>USA</th>\n",
       "      <td>6.695483</td>\n",
       "      <td>15.040204</td>\n",
       "      <td>24.971452</td>\n",
       "    </tr>\n",
       "  </tbody>\n",
       "</table>\n",
       "</div>"
      ],
      "text/plain": [
       "             min       mean        max\n",
       "origin                                \n",
       "Asia    6.886245  14.973830  23.759123\n",
       "Europe  6.200971  14.942532  25.967222\n",
       "USA     6.695483  15.040204  24.971452"
      ]
     },
     "execution_count": 12,
     "metadata": {},
     "output_type": "execute_result"
    }
   ],
   "source": [
    "data.groupby('origin')['fuel_efficiency_mpg'].agg(['min', 'mean', 'max'])"
   ]
  },
  {
   "cell_type": "code",
   "execution_count": 13,
   "id": "XXS-4Eav5fX2",
   "metadata": {
    "colab": {
     "base_uri": "https://localhost:8080/"
    },
    "id": "XXS-4Eav5fX2",
    "outputId": "0b61328e-9e9e-457a-c223-a31975cc75c5"
   },
   "outputs": [
    {
     "data": {
      "text/plain": [
       "23.759122836520497"
      ]
     },
     "execution_count": 13,
     "metadata": {},
     "output_type": "execute_result"
    }
   ],
   "source": [
    "data[data.origin == 'Asia']['fuel_efficiency_mpg'].max()"
   ]
  },
  {
   "cell_type": "markdown",
   "id": "b8d3c661",
   "metadata": {
    "id": "b8d3c661"
   },
   "source": [
    "### Question 6"
   ]
  },
  {
   "cell_type": "markdown",
   "id": "46ecb87b",
   "metadata": {
    "id": "46ecb87b"
   },
   "source": [
    "\n",
    "\n",
    "1. Find the median value of \"horsepower\" column in the dataset.\n",
    "2. Next, calculate the most frequent value of the same \"horsepower\". \n",
    "3. Use the `fillna` method to fill the missing values in \"horsepower\" with the most frequent value from the previous step.\n",
    "4. Now, calculate the median value of \"horsepower\" once again.\n",
    "\n",
    "Has it changed?"
   ]
  },
  {
   "cell_type": "code",
   "execution_count": 14,
   "id": "82besVeW3IKa",
   "metadata": {
    "colab": {
     "base_uri": "https://localhost:8080/"
    },
    "id": "82besVeW3IKa",
    "outputId": "17d636da-d9d4-4fe5-ce7a-3db52e739486"
   },
   "outputs": [
    {
     "data": {
      "text/plain": [
       "horsepower\n",
       "152.0    142\n",
       "145.0    141\n",
       "151.0    134\n",
       "148.0    130\n",
       "141.0    130\n",
       "        ... \n",
       "46.0       1\n",
       "43.0       1\n",
       "53.0       1\n",
       "66.0       1\n",
       "61.0       1\n",
       "Name: count, Length: 192, dtype: int64"
      ]
     },
     "execution_count": 14,
     "metadata": {},
     "output_type": "execute_result"
    }
   ],
   "source": [
    "data['horsepower'].value_counts()"
   ]
  },
  {
   "cell_type": "code",
   "execution_count": 16,
   "id": "QG0ooQpm31z2",
   "metadata": {
    "colab": {
     "base_uri": "https://localhost:8080/"
    },
    "id": "QG0ooQpm31z2",
    "outputId": "ee0ab339-7d81-47ab-bdc0-d61a01639779"
   },
   "outputs": [
    {
     "data": {
      "text/plain": [
       "149.0"
      ]
     },
     "execution_count": 16,
     "metadata": {},
     "output_type": "execute_result"
    }
   ],
   "source": [
    "median_horsepower = data['horsepower'].median()\n",
    "median_horsepower"
   ]
  },
  {
   "cell_type": "code",
   "execution_count": 17,
   "id": "81644140",
   "metadata": {
    "colab": {
     "base_uri": "https://localhost:8080/"
    },
    "id": "81644140",
    "outputId": "3d4fa383-2ca3-420d-ae61-1b4221601674"
   },
   "outputs": [
    {
     "data": {
      "text/plain": [
       "152.0"
      ]
     },
     "execution_count": 17,
     "metadata": {},
     "output_type": "execute_result"
    }
   ],
   "source": [
    "mode_horsepower = data['horsepower'].mode()[0]\n",
    "mode_horsepower"
   ]
  },
  {
   "cell_type": "code",
   "execution_count": 18,
   "id": "2302ad09",
   "metadata": {
    "colab": {
     "base_uri": "https://localhost:8080/"
    },
    "id": "2302ad09",
    "outputId": "ea6b0f88-eb44-4d56-f234-4d4eb99d834b"
   },
   "outputs": [
    {
     "data": {
      "text/plain": [
       "152.0"
      ]
     },
     "execution_count": 18,
     "metadata": {},
     "output_type": "execute_result"
    }
   ],
   "source": [
    "data['horsepower'].fillna(mode_horsepower).median()"
   ]
  },
  {
   "cell_type": "markdown",
   "id": "duf3vnEYm4yJ",
   "metadata": {
    "id": "duf3vnEYm4yJ"
   },
   "source": [
    "Yes, it increased"
   ]
  },
  {
   "cell_type": "markdown",
   "id": "1214682d",
   "metadata": {
    "id": "1214682d"
   },
   "source": [
    "### Question 7"
   ]
  },
  {
   "cell_type": "markdown",
   "id": "9a000f4e",
   "metadata": {
    "id": "9a000f4e"
   },
   "source": [
    "1. Select all the cars from Asia.\n",
    "2. Select only columns \"vehicle_weight\" and \"model_year\".\n",
    "3. Select the first 7 values.\n",
    "4. Get the underlying NumPy array. Let's call it 'X'.\n",
    "5. Compute matrix-matrix multiplication between the transpose of `X` and `X`. To get the transpose, use `X.T`. Let's call the result `XTX`.\n",
    "6. Invert `XTX`.\n",
    "7. Create an array `y` with values `[1100, 1300, 800, 900, 1000, 1100, 1200]`.\n",
    "8. Multiply the inverse of `XTX` with the transpose of `X`, and then multiply the result by `y`. Call the result `w`.\n",
    "9. What's the sum of all the elements of the result?"
   ]
  },
  {
   "cell_type": "code",
   "execution_count": 27,
   "id": "3002ec54",
   "metadata": {
    "colab": {
     "base_uri": "https://localhost:8080/",
     "height": 332
    },
    "id": "3002ec54",
    "outputId": "104561a8-256e-490c-c7f2-56ecd074dae5"
   },
   "outputs": [
    {
     "data": {
      "text/html": [
       "<div>\n",
       "<style scoped>\n",
       "    .dataframe tbody tr th:only-of-type {\n",
       "        vertical-align: middle;\n",
       "    }\n",
       "\n",
       "    .dataframe tbody tr th {\n",
       "        vertical-align: top;\n",
       "    }\n",
       "\n",
       "    .dataframe thead th {\n",
       "        text-align: right;\n",
       "    }\n",
       "</style>\n",
       "<table border=\"1\" class=\"dataframe\">\n",
       "  <thead>\n",
       "    <tr style=\"text-align: right;\">\n",
       "      <th></th>\n",
       "      <th>vehicle_weight</th>\n",
       "      <th>model_year</th>\n",
       "    </tr>\n",
       "  </thead>\n",
       "  <tbody>\n",
       "    <tr>\n",
       "      <th>8</th>\n",
       "      <td>2714.219310</td>\n",
       "      <td>2016</td>\n",
       "    </tr>\n",
       "    <tr>\n",
       "      <th>12</th>\n",
       "      <td>2783.868974</td>\n",
       "      <td>2010</td>\n",
       "    </tr>\n",
       "    <tr>\n",
       "      <th>14</th>\n",
       "      <td>3582.687368</td>\n",
       "      <td>2007</td>\n",
       "    </tr>\n",
       "    <tr>\n",
       "      <th>20</th>\n",
       "      <td>2231.808142</td>\n",
       "      <td>2011</td>\n",
       "    </tr>\n",
       "    <tr>\n",
       "      <th>21</th>\n",
       "      <td>2659.431451</td>\n",
       "      <td>2016</td>\n",
       "    </tr>\n",
       "    <tr>\n",
       "      <th>34</th>\n",
       "      <td>2844.227534</td>\n",
       "      <td>2014</td>\n",
       "    </tr>\n",
       "    <tr>\n",
       "      <th>38</th>\n",
       "      <td>3761.994038</td>\n",
       "      <td>2019</td>\n",
       "    </tr>\n",
       "  </tbody>\n",
       "</table>\n",
       "</div>"
      ],
      "text/plain": [
       "    vehicle_weight  model_year\n",
       "8      2714.219310        2016\n",
       "12     2783.868974        2010\n",
       "14     3582.687368        2007\n",
       "20     2231.808142        2011\n",
       "21     2659.431451        2016\n",
       "34     2844.227534        2014\n",
       "38     3761.994038        2019"
      ]
     },
     "execution_count": 27,
     "metadata": {},
     "output_type": "execute_result"
    }
   ],
   "source": [
    "Asia_df = data[data['origin'] == 'Asia']\n",
    "Asia_df = Asia_df[['vehicle_weight', 'model_year']]\n",
    "Asia_df = Asia_df[:7]\n",
    "Asia_df"
   ]
  },
  {
   "cell_type": "code",
   "execution_count": 28,
   "id": "gOKb01VxqqL0",
   "metadata": {
    "colab": {
     "base_uri": "https://localhost:8080/"
    },
    "id": "gOKb01VxqqL0",
    "outputId": "3ea94af3-2927-42ba-fd73-ead0daaed7d7"
   },
   "outputs": [
    {
     "data": {
      "text/plain": [
       "array([[ 5.71497081e-07, -8.34509443e-07],\n",
       "       [-8.34509443e-07,  1.25380877e-06]])"
      ]
     },
     "execution_count": 28,
     "metadata": {},
     "output_type": "execute_result"
    }
   ],
   "source": [
    "X = Asia_df.to_numpy()\n",
    "XTX = X.T @ X\n",
    "XTX_inv = np.linalg.inv(XTX)\n",
    "XTX_inv"
   ]
  },
  {
   "cell_type": "code",
   "execution_count": 31,
   "id": "e0a2e43c",
   "metadata": {
    "id": "e0a2e43c"
   },
   "outputs": [],
   "source": [
    "y = np.array([1100, 1300, 800, 900, 1000, 1100, 1200])"
   ]
  },
  {
   "cell_type": "code",
   "execution_count": 32,
   "id": "2449151d",
   "metadata": {
    "id": "2449151d"
   },
   "outputs": [],
   "source": [
    "w = (XTX_inv @ X.T) @ y"
   ]
  },
  {
   "cell_type": "code",
   "execution_count": 33,
   "id": "c5e7fc75",
   "metadata": {
    "colab": {
     "base_uri": "https://localhost:8080/"
    },
    "id": "c5e7fc75",
    "outputId": "ccb80238-ae8c-4210-d3f4-cba73ba65af8"
   },
   "outputs": [
    {
     "data": {
      "text/plain": [
       "0.5187709081074007"
      ]
     },
     "execution_count": 33,
     "metadata": {},
     "output_type": "execute_result"
    }
   ],
   "source": [
    "w.sum()"
   ]
  },
  {
   "cell_type": "markdown",
   "id": "wKnwSNmjn2gT",
   "metadata": {
    "id": "wKnwSNmjn2gT"
   },
   "source": [
    "> **Note**: we just implemented normal equation\n",
    "\n",
    "\n",
    "$$w = (X^T X)^{-1} X^T y$$\n",
    "\n",
    "\n",
    "We'll talk about it more in the next week (Machine Learning for Regression)"
   ]
  }
 ],
 "metadata": {
  "colab": {
   "collapsed_sections": [],
   "provenance": []
  },
  "kernelspec": {
   "display_name": "Python 3 (ipykernel)",
   "language": "python",
   "name": "python3"
  },
  "language_info": {
   "codemirror_mode": {
    "name": "ipython",
    "version": 3
   },
   "file_extension": ".py",
   "mimetype": "text/x-python",
   "name": "python",
   "nbconvert_exporter": "python",
   "pygments_lexer": "ipython3",
   "version": "3.12.4"
  }
 },
 "nbformat": 4,
 "nbformat_minor": 5
}
